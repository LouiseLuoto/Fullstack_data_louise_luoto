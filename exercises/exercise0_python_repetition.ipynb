{
 "cells": [
  {
   "cell_type": "markdown",
   "metadata": {},
   "source": [
    "# 0. Hire IT employee data\n",
    "In a company Hire IT, there are these employees.\n",
    "\n",
    "employeeID\tname\tdepartment\tsalary\n",
    "- 0\tAlice\tHR\t31000\n",
    "- 1\tBob\tIT\t41000\n",
    "- 2\tCharlie\tHR\t28000\n",
    "\n",
    "a) Create a list of dictionaries to represent this data, where each dictionary represents each row."
   ]
  },
  {
   "cell_type": "code",
   "execution_count": 3,
   "metadata": {},
   "outputs": [],
   "source": [
    "person1 = {\"ID\": 0, \"name\": \"Alice\", \"department\": \"HR\", \"salary\": 31000}\n",
    "person2 = {\"ID\": 1, \"name\": \"Bob\", \"department\": \"IT\", \"salary\": 41000}\n",
    "person3 = {\"ID\": 2, \"name\": \"Charlie\", \"department\": \"HR\", \"salary\": 28000}\n",
    "\n",
    "employees = [person1, person2, person3]"
   ]
  },
  {
   "cell_type": "markdown",
   "metadata": {},
   "source": [
    "b) Extract the second record in this dataset."
   ]
  },
  {
   "cell_type": "code",
   "execution_count": 4,
   "metadata": {},
   "outputs": [
    {
     "data": {
      "text/plain": [
       "{'ID': 1, 'name': 'Bob', 'department': 'IT', 'salary': 41000}"
      ]
     },
     "execution_count": 4,
     "metadata": {},
     "output_type": "execute_result"
    }
   ],
   "source": [
    "employees[1]"
   ]
  },
  {
   "cell_type": "markdown",
   "metadata": {},
   "source": [
    "c) Extract all rows from this dataset and print it in this format\n",
    "- Alice works in department HR and earns 31000.\n",
    "- Bob works in department IT and earns 41000.\n",
    "- Charlie works in department HR and earns 28000."
   ]
  },
  {
   "cell_type": "code",
   "execution_count": 7,
   "metadata": {},
   "outputs": [
    {
     "name": "stdout",
     "output_type": "stream",
     "text": [
      "Alice works in department HR and earns 31000.\n",
      "Bob works in department IT and earns 41000.\n",
      "Charlie works in department HR and earns 28000.\n"
     ]
    }
   ],
   "source": [
    "for employee in employees:\n",
    "    print(f\"{employee['name']} works in department {employee['department']} and earns {employee['salary']}.\")"
   ]
  },
  {
   "cell_type": "markdown",
   "metadata": {},
   "source": [
    "d) Find out the average salary in Hire IT."
   ]
  },
  {
   "cell_type": "code",
   "execution_count": 27,
   "metadata": {},
   "outputs": [
    {
     "name": "stdout",
     "output_type": "stream",
     "text": [
      "The average in Hire IT is 33333.\n"
     ]
    }
   ],
   "source": [
    "total_salary = sum(employee[\"salary\"] for employee in employees)\n",
    "average_salary = total_salary / len(employees)\n",
    "\n",
    "print(f\"The average in Hire IT is {average_salary:.0f}.\")"
   ]
  },
  {
   "cell_type": "markdown",
   "metadata": {},
   "source": [
    "e) Find out the average salary among the HR department in Hire IT."
   ]
  },
  {
   "cell_type": "code",
   "execution_count": 26,
   "metadata": {},
   "outputs": [
    {
     "name": "stdout",
     "output_type": "stream",
     "text": [
      "The average salary in HR is 29500.\n"
     ]
    }
   ],
   "source": [
    "hr_salaries = [employee[\"salary\"] for employee in employees if employee[\"department\"] == \"HR\"]\n",
    "total_hr_salary = sum(hr_salaries)\n",
    "num_hr_employees = len(hr_salaries)\n",
    "\n",
    "hr_average_salary = total_hr_salary / num_hr_employees if num_hr_employees > 0 else 0\n",
    "print(f\"The average salary in HR is {hr_average_salary:.0f}.\")"
   ]
  },
  {
   "cell_type": "markdown",
   "metadata": {},
   "source": [
    "f) Extract all records where the department is HR."
   ]
  },
  {
   "cell_type": "code",
   "execution_count": 36,
   "metadata": {},
   "outputs": [
    {
     "data": {
      "text/plain": [
       "[{'ID': 0, 'name': 'Alice', 'department': 'HR', 'salary': 31000},\n",
       " {'ID': 2, 'name': 'Charlie', 'department': 'HR', 'salary': 28000}]"
      ]
     },
     "execution_count": 36,
     "metadata": {},
     "output_type": "execute_result"
    }
   ],
   "source": [
    "hr_employees = [employee for employee in employees if employee[\"department\"] == \"HR\"]\n",
    "\n",
    "hr_employees"
   ]
  },
  {
   "cell_type": "markdown",
   "metadata": {},
   "source": [
    "g) Find all unique departments in this list."
   ]
  },
  {
   "cell_type": "code",
   "execution_count": 37,
   "metadata": {},
   "outputs": [
    {
     "name": "stdout",
     "output_type": "stream",
     "text": [
      "{'IT', 'HR'}\n"
     ]
    }
   ],
   "source": [
    "unique_departments = {employee[\"department\"] for employee in employees}\n",
    "\n",
    "print(unique_departments)"
   ]
  },
  {
   "cell_type": "markdown",
   "metadata": {},
   "source": [
    "h) Add this age column into our list of dictionaries. None should be used for empty fields."
   ]
  },
  {
   "cell_type": "code",
   "execution_count": 43,
   "metadata": {},
   "outputs": [
    {
     "name": "stdout",
     "output_type": "stream",
     "text": [
      "[{'ID': 0, 'name': 'Alice', 'department': 'HR', 'salary': 31000, 'age': 26}, {'ID': 1, 'name': 'Bob', 'department': 'IT', 'salary': 41000, 'age': 37}, {'ID': 2, 'name': 'Charlie', 'department': 'HR', 'salary': 28000, 'age': None}]\n"
     ]
    }
   ],
   "source": [
    "employees[0][\"age\"] = 26\n",
    "employees[1][\"age\"] = 37\n",
    "employees[2][\"age\"] = None\n",
    "\n",
    "print(employees)"
   ]
  },
  {
   "cell_type": "markdown",
   "metadata": {},
   "source": [
    "i) A new employee named David starts at the IT department, with salary 35000 and has the age 30. Create a function to add this record to the dataset."
   ]
  },
  {
   "cell_type": "code",
   "execution_count": 44,
   "metadata": {},
   "outputs": [
    {
     "name": "stdout",
     "output_type": "stream",
     "text": [
      "[{'ID': 0, 'name': 'Alice', 'department': 'HR', 'salary': 31000, 'age': 26}, {'ID': 1, 'name': 'Bob', 'department': 'IT', 'salary': 41000, 'age': 37}, {'ID': 2, 'name': 'Charlie', 'department': 'HR', 'salary': 28000, 'age': None}, {'ID': 3, 'name': 'David', 'department': 'IT', 'salary': 35000, 'age': 30}]\n"
     ]
    }
   ],
   "source": [
    "def add_employee(ID, name, department, salary, age):\n",
    "    new_employee = {\n",
    "        \"ID\": ID,\n",
    "        \"name\": name,\n",
    "        \"department\": department,\n",
    "        \"salary\": salary,\n",
    "        \"age\": age\n",
    "    }\n",
    "    employees.append(new_employee)\n",
    "\n",
    "add_employee(3, \"David\", \"IT\", 35000, 30)\n",
    "\n",
    "print(employees)"
   ]
  },
  {
   "cell_type": "markdown",
   "metadata": {},
   "source": [
    "# 1. Gotta catch em all\n",
    "a) Define a Pokemon class with attributes for name, type, and level. Instantiate a pokemon named Pikachu and give it an electric type with level 10."
   ]
  },
  {
   "cell_type": "code",
   "execution_count": 45,
   "metadata": {},
   "outputs": [
    {
     "name": "stdout",
     "output_type": "stream",
     "text": [
      "Pikachu Electric 10\n"
     ]
    }
   ],
   "source": [
    "class Pokemon:\n",
    "    def __init__(self,name: str, type: str, level: int) -> None:\n",
    "        self.name = name\n",
    "        self.type = type\n",
    "        self.level = level\n",
    "pikachu = Pokemon(\"Pikachu\", \"Electric\", 10)\n",
    "print(pikachu.name, pikachu.type, pikachu.level)"
   ]
  },
  {
   "cell_type": "markdown",
   "metadata": {},
   "source": [
    "b) Implement __str__() method to display the Pokemon's details. Also implement a __repr__() method."
   ]
  },
  {
   "cell_type": "code",
   "execution_count": null,
   "metadata": {},
   "outputs": [],
   "source": []
  }
 ],
 "metadata": {
  "kernelspec": {
   "display_name": ".venv",
   "language": "python",
   "name": "python3"
  },
  "language_info": {
   "codemirror_mode": {
    "name": "ipython",
    "version": 3
   },
   "file_extension": ".py",
   "mimetype": "text/x-python",
   "name": "python",
   "nbconvert_exporter": "python",
   "pygments_lexer": "ipython3",
   "version": "3.11.7"
  }
 },
 "nbformat": 4,
 "nbformat_minor": 2
}
