{
 "cells": [
  {
   "cell_type": "markdown",
   "metadata": {},
   "source": [
    "# 0. Hire IT employee data\n",
    "In a company Hire IT, there are these employees.\n",
    "\n",
    "employeeID\tname\tdepartment\tsalary\n",
    "- 0\tAlice\tHR\t31000\n",
    "- 1\tBob\tIT\t41000\n",
    "- 2\tCharlie\tHR\t28000\n",
    "\n",
    "a) Create a list of dictionaries to represent this data, where each dictionary represents each row."
   ]
  },
  {
   "cell_type": "code",
   "execution_count": 5,
   "metadata": {},
   "outputs": [
    {
     "data": {
      "text/plain": [
       "{'ID': 0, 'name': 'Alice', 'department': 'HR', 'salary': 31000}"
      ]
     },
     "execution_count": 5,
     "metadata": {},
     "output_type": "execute_result"
    }
   ],
   "source": [
    "person1 = {\"ID\": 0, \"name\": \"Alice\", \"department\": \"HR\", \"salary\": 31000}\n",
    "person2 = {\"ID\": 1, \"name\": \"Bob\", \"department\": \"IT\", \"salary\": 41000}\n",
    "person3 = {\"ID\": 2, \"name\": \"Charlie\", \"department\": \"HR\", \"salary\": 28000}"
   ]
  },
  {
   "cell_type": "code",
   "execution_count": null,
   "metadata": {},
   "outputs": [],
   "source": []
  }
 ],
 "metadata": {
  "kernelspec": {
   "display_name": ".venv",
   "language": "python",
   "name": "python3"
  },
  "language_info": {
   "codemirror_mode": {
    "name": "ipython",
    "version": 3
   },
   "file_extension": ".py",
   "mimetype": "text/x-python",
   "name": "python",
   "nbconvert_exporter": "python",
   "pygments_lexer": "ipython3",
   "version": "3.11.7"
  }
 },
 "nbformat": 4,
 "nbformat_minor": 2
}
